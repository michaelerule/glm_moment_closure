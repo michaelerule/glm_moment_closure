{
 "cells": [
  {
   "cell_type": "markdown",
   "metadata": {},
   "source": [
    "# Autoregressive Point-Processes as Latent State-Space Models"
   ]
  },
  {
   "cell_type": "markdown",
   "metadata": {},
   "source": [
    "## Configure notebook"
   ]
  },
  {
   "cell_type": "code",
   "execution_count": null,
   "metadata": {
    "scrolled": true
   },
   "outputs": [],
   "source": [
    "%matplotlib inline\n",
    "%load_ext autoreload\n",
    "%autoreload 2\n",
    "from __future__ import division\n",
    "from __future__ import print_function\n",
    "\n",
    "# Load scipy/numpy/matplotlib\n",
    "from   scipy.linalg import expm\n",
    "import matplotlib.pyplot as plt\n",
    "from   pylab import *\n",
    "\n",
    "# Configure figure resolution\n",
    "plt.rcParams['figure.figsize'] = (12.0, 6.0)\n",
    "plt.rcParams['savefig.dpi'   ] = 100\n",
    "\n",
    "from izh       import * # Routines for sampling Izhikevich neurons\n",
    "from plot      import * # Misc. plotting routines\n",
    "from glm       import * # GLM fitting\n",
    "from arppglm   import * # Sampling and integration\n",
    "from utilities import * # Other utilities\n",
    "from arguments import * # Argument verification\n",
    "\n",
    "figure_prefix = \"RuleSanguinetti2018_figure_\"\n",
    "\n",
    "import numpy as np"
   ]
  },
  {
   "cell_type": "code",
   "execution_count": null,
   "metadata": {},
   "outputs": [],
   "source": [
    "from neurotools.nlab import *"
   ]
  },
  {
   "cell_type": "markdown",
   "metadata": {},
   "source": [
    "# Case study: phasic bursting Izhikevich neuron"
   ]
  },
  {
   "cell_type": "code",
   "execution_count": null,
   "metadata": {},
   "outputs": [],
   "source": [
    "# Izhikevich parameters\n",
    "izh = (0.02,0.25,-55,0.05) # a, b, c, d\n",
    "dt  = 1.0\n",
    "\n",
    "nplot = 1000   # time points for plotting\n",
    "\n",
    "# Generate constant drive with synaptic noise\n",
    "I = 0.6\n",
    "stimulus = randn(nplot)*sqrt(I)+I\n",
    "\n",
    "# Plot current input\n",
    "subplot(311); plot(stimulus)\n",
    "xlim(0,nplot); nox(); noaxis(); ylabel('pA')\n",
    "title('Current injected')\n",
    "\n",
    "# Solve Izh model\n",
    "state = sim_izh(*izh,stimulus)\n",
    "\n",
    "# Plot voltage and spikes\n",
    "subplot(312); plot(state[:,1],color=OCHRE);\n",
    "xlim(0,nplot); noaxis(); addspikes(state[:,-1]); ylabel('mV');\n",
    "title('Simulated voltage and spikes');"
   ]
  },
  {
   "cell_type": "markdown",
   "metadata": {},
   "source": [
    "## Train model on pulses\n",
    "\n",
    "GLMs can emulate neural firing, but have limited ability to generalize outside of the dynamical regime in which they are trained (Weber & Pillow 2017). For this reason, we train with stimuli that elicit phasic bursting responses (tonic bursting seems to be possible at higher stimulation currents, but interferes with the GLMs ability to model the phasic bursting regime)."
   ]
  },
  {
   "cell_type": "code",
   "execution_count": null,
   "metadata": {},
   "outputs": [],
   "source": [
    "offset1  = 0\n",
    "offset2  = 0\n",
    "amp1     = 2.5\n",
    "amp2     = 1.5\n",
    "duration1= 200\n",
    "duration2= 200\n",
    "stimlen  = 400\n",
    "stimat   = 125\n",
    "stim1    = np.zeros(stimlen) + offset1\n",
    "stim2    = np.zeros(stimlen) + offset2\n",
    "stim1[stimat:stimat+duration1] = amp1\n",
    "stim2[stimat:stimat+duration2] = sample_ou_process(0,amp2,20,1,duration2).ravel()\n",
    "\n",
    "stim1,stim2 = stim2,stim1"
   ]
  },
  {
   "cell_type": "code",
   "execution_count": null,
   "metadata": {
    "hide_input": false
   },
   "outputs": [],
   "source": [
    "figure(figsize=(10,8))\n",
    "ntrain     = len(stim1)\n",
    "\n",
    "subplot2grid((5,2),(0,0))\n",
    "plot(stim1,color=BLACK)\n",
    "plot(stim2,color=RUST)\n",
    "xlim(0,ntrain)\n",
    "simpleraxis()\n",
    "\n",
    "# Solve Izh model and get voltage and spikes\n",
    "state = sim_izh(*izh,stim1,dt=dt)\n",
    "v,Ytrain = state[:,1],state[:,2]\n",
    "\n",
    "# Plot voltage and spikes\n",
    "subplot2grid((5,2),(1,0),colspan=2)\n",
    "plot(v,color=OCHRE); addspikes(Ytrain,lw=0.05);\n",
    "noaxis(); xlim(0,ntrain); ylabel('mV');\n",
    "\n",
    "# Define history basis functions\n",
    "N = 150   # Duration of history filter\n",
    "K = 8     # number of basis elements\n",
    "D = 5     # Duration of shortest basis element\n",
    "B = make_cosine_basis(K,N,D,normalize=False)\n",
    "\n",
    "# Plot history basis functions\n",
    "subplot2grid((5,2),(0,1))\n",
    "plot(B.T,color=BLACK,clip_on=False);\n",
    "xlim(0,N); ylim(0,0.5); simpleaxis()\n",
    "\n",
    "### Generate stimulus and spiking history training features\n",
    "\n",
    "# Build stimulus filter (history trace of I)\n",
    "# These are needed to model subthreshold dynamics\n",
    "Bh1 = array([convolve(b,stim1) for b in B]).T[:ntrain]\n",
    "Bh2 = array([convolve(b,stim2) for b in B]).T[:ntrain]\n",
    "Bp = concatenate([zeros((K,1)),B],axis=1)\n",
    "By1 = array([convolve(b,Ytrain) for b in Bp]).T[:ntrain]\n",
    "\n",
    "## Train model\n",
    "# Compose feature vector and fit GLM\n",
    "X = concatenate([By1,Bh1],axis=1)\n",
    "m,bhat = fitGLM(X,Ytrain)\n",
    "bhat_spikehist = bhat[:K]\n",
    "bhat_stimulus  = bhat[K:]\n",
    "beta = bhat[:K].reshape(K,1)\n",
    "\n",
    "# Check stability via sampling\n",
    "subplot2grid((5,2),(2,0),colspan=2)\n",
    "st1 = (m + Bh1.dot(bhat_stimulus))\n",
    "#y,l  = ensemble_sample(st1,B,beta,M=100)\n",
    "y,l  = ensemble_sample_continuous(st1,B,beta,M=50,oversample=200)\n",
    "pcolormesh(-int32(y.T>0),cmap='gray')\n",
    "simpleraxis()\n",
    "\n",
    "# Solve Izh model and get voltage and spikes\n",
    "subplot2grid((5,2),(3,0),colspan=2)\n",
    "state = sim_izh(*izh,stim2,dt=dt)\n",
    "v,Ytest = state[:,1],state[:,2]\n",
    "By2 = array([convolve(b,Ytest) for b in Bp]).T[:ntrain]\n",
    "plot(v,color=OCHRE); addspikes(Y,lw=0.05);\n",
    "noaxis(); xlim(0,ntrain); ylabel('mV');\n",
    "title('Simulated voltage and spikes');\n",
    "\n",
    "subplot2grid((5,2),(4,0),colspan=2)\n",
    "st2 = (m + Bh2.dot(bhat_stimulus))\n",
    "y,l  = ensemble_sample_continuous(st2,B,beta,M=50,oversample=200)\n",
    "pcolormesh(-int32(y.T>0),cmap='gray')\n",
    "simpleraxis()\n",
    "\n",
    "tight_layout()"
   ]
  },
  {
   "cell_type": "code",
   "execution_count": null,
   "metadata": {},
   "outputs": [],
   "source": [
    "saved_training_model = {}\n",
    "saved_training_model['K'] = K\n",
    "saved_training_model['B'] = B\n",
    "saved_training_model['By'] = By\n",
    "saved_training_model['Bh'] = Bh1\n",
    "saved_training_model['A'] = A\n",
    "saved_training_model['C'] = C\n",
    "saved_training_model['Y'] = Ytrain\n",
    "saved_training_model['dt'] = dt\n",
    "saved_training_model['Bh_train'] = Bh1\n",
    "saved_training_model['By_train'] = By1\n",
    "saved_training_model['Y_train'] = Ytrain\n",
    "saved_training_model['Bh_test'] = Bh2\n",
    "saved_training_model['By_test'] = By2\n",
    "saved_training_model['Y_test'] = Ytest\n",
    "saved_training_model = scipy.io.savemat('saved_training_model_badburster.mat',saved_training_model)"
   ]
  }
 ],
 "metadata": {
  "kernelspec": {
   "display_name": "Python 3 (ipykernel)",
   "language": "python",
   "name": "python3"
  },
  "language_info": {
   "codemirror_mode": {
    "name": "ipython",
    "version": 3
   },
   "file_extension": ".py",
   "mimetype": "text/x-python",
   "name": "python",
   "nbconvert_exporter": "python",
   "pygments_lexer": "ipython3",
   "version": "3.10.4"
  }
 },
 "nbformat": 4,
 "nbformat_minor": 4
}
