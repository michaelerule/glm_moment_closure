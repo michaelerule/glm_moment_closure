{
 "cells": [
  {
   "cell_type": "markdown",
   "metadata": {},
   "source": [
    "We need a better derivation of the noise model to explain the second order approximation"
   ]
  },
  {
   "cell_type": "markdown",
   "metadata": {},
   "source": [
    "Consider \n",
    "\n",
    "$$\n",
    "\\left< \\lambda^2 \\right>\n",
    "$$\n",
    "\n",
    "$$\n",
    "\\lambda = e^{H^\\top h + I}\n",
    "$$\n",
    "\n",
    "$$\n",
    "\\left< \\lambda^2 \\right>\n",
    "=\n",
    "\\left< (e^{H^\\top h + I})^2 \\right>\n",
    "$$\n",
    "\n",
    "$$\n",
    "\\left< (e^{2 H^\\top h + 2 I}) \\right>\n",
    "$$"
   ]
  },
  {
   "cell_type": "markdown",
   "metadata": {},
   "source": [
    "## Gaussian moment closure case"
   ]
  },
  {
   "cell_type": "markdown",
   "metadata": {},
   "source": [
    "This is again a log-normally distributed variable, with log-mean $2(H^\\top h + I)$ and log-variance $4 H^\\top h H$. The mean then should be\n",
    "\n",
    "$$\n",
    "\\left<\\lambda^2\\right> =\n",
    "e^{2 \\left( H^\\top h + I + H^\\top h H \\right)}\n",
    "$$"
   ]
  },
  {
   "cell_type": "markdown",
   "metadata": {},
   "source": [
    "If $\\lambda = e^{H^\\top h + I}$ then the variance for a log-normal distribution implies that\n",
    "\n",
    "$$\n",
    "\\sigma^2_\\lambda = \\left( e^{H^\\top h H} - 1 \\right) \\left<\\lambda\\right>^2\n",
    "$$\n",
    "\n",
    "Where\n",
    "\n",
    "$$\n",
    "\\left<\\lambda\\right> = e^{H^\\top \\mu + I + \\tfrac 1 2 H^\\top h H}\n",
    "$$"
   ]
  },
  {
   "cell_type": "markdown",
   "metadata": {},
   "source": [
    "Assuming some things that are probably false, does this imply... \n",
    "\n",
    "$$\n",
    "\\sigma^2_\\lambda  +  \\left<\\lambda\\right>^2 = e^{H^\\top h H} \\left<\\lambda\\right>^2\n",
    "$$\n",
    "\n",
    "\n",
    "$$\n",
    "\\left(\n",
    "\\sigma^2_\\lambda  +  \\left<\\lambda\\right>^2\n",
    "\\right)^{\\tfrac 1 2} \n",
    "= e^{\\tfrac 1 2 H^\\top h H} \\left<\\lambda\\right>\n",
    "$$"
   ]
  },
  {
   "cell_type": "markdown",
   "metadata": {},
   "source": [
    "## Second-order case"
   ]
  },
  {
   "cell_type": "markdown",
   "metadata": {},
   "source": [
    "$$\n",
    "\\lambda \n",
    "= e^{H^\\top h + I}\n",
    "= e^{H^\\top (\\mu+\\epsilon) + I}\n",
    "= e^{H^\\top \\mu + I} e^{H^\\top \\epsilon}\n",
    "= \\bar \\lambda e^{H^\\top \\epsilon}\n",
    "= \\bar \\lambda e^{H^\\top (h-\\mu)}\n",
    "$$"
   ]
  },
  {
   "cell_type": "markdown",
   "metadata": {},
   "source": [
    "$$\n",
    "\\left< \\lambda^2 \\right> \n",
    "= \\left< \\bar \\lambda^2 e^{2 \\left(H^\\top (h-\\mu) \\right)} \\right>\n",
    "\\approx\n",
    "\\left< \\bar \\lambda^2\n",
    "(1 + 2 H^\\top (h-\\mu) + \\tfrac 1 2 (2 H^\\top (h-\\mu))^2) \\right>\n",
    "$$\n",
    "\n",
    "$$\n",
    "\\bar \\lambda ^2\n",
    "+\n",
    "2 \\bar \\lambda ^2 H^\\top \\Sigma H\n",
    "$$\n",
    "\n",
    "$$\n",
    "\\bar \\lambda ^2 \\left[ 1\n",
    "+\n",
    "2  H^\\top \\Sigma H\n",
    "\\right ]\n",
    "$$"
   ]
  },
  {
   "cell_type": "markdown",
   "metadata": {},
   "source": [
    "$$\n",
    "\\sigma^2 _\\lambda = \\bar\\lambda^2 \\cdot 2 H^\\top \\Sigma H\n",
    "$$"
   ]
  },
  {
   "cell_type": "code",
   "execution_count": null,
   "metadata": {},
   "outputs": [],
   "source": []
  }
 ],
 "metadata": {
  "kernelspec": {
   "display_name": "Python 3",
   "language": "python",
   "name": "python3"
  },
  "language_info": {
   "codemirror_mode": {
    "name": "ipython",
    "version": 3
   },
   "file_extension": ".py",
   "mimetype": "text/x-python",
   "name": "python",
   "nbconvert_exporter": "python",
   "pygments_lexer": "ipython3",
   "version": "3.5.2"
  }
 },
 "nbformat": 4,
 "nbformat_minor": 2
}
